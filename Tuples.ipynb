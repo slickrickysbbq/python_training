{
 "cells": [
  {
   "cell_type": "code",
   "execution_count": 1,
   "metadata": {},
   "outputs": [],
   "source": [
    "# Create a tuple\n",
    "item = (1234, 'item 1', True)\n",
    "\n",
    "# Another way to create a tuple\n",
    "item_scnd = 1234, 'item 1', True"
   ]
  },
  {
   "cell_type": "code",
   "execution_count": 2,
   "metadata": {},
   "outputs": [
    {
     "data": {
      "text/plain": [
       "tuple"
      ]
     },
     "execution_count": 2,
     "metadata": {},
     "output_type": "execute_result"
    }
   ],
   "source": [
    "type(item)"
   ]
  },
  {
   "cell_type": "code",
   "execution_count": 3,
   "metadata": {},
   "outputs": [
    {
     "data": {
      "text/plain": [
       "tuple"
      ]
     },
     "execution_count": 3,
     "metadata": {},
     "output_type": "execute_result"
    }
   ],
   "source": [
    "type(item_scnd)"
   ]
  },
  {
   "cell_type": "code",
   "execution_count": 4,
   "metadata": {},
   "outputs": [
    {
     "data": {
      "text/plain": [
       "3"
      ]
     },
     "execution_count": 4,
     "metadata": {},
     "output_type": "execute_result"
    }
   ],
   "source": [
    "# Number of elements in a tuple\n",
    "len(item)"
   ]
  },
  {
   "cell_type": "code",
   "execution_count": 5,
   "metadata": {},
   "outputs": [
    {
     "data": {
      "text/plain": [
       "True"
      ]
     },
     "execution_count": 5,
     "metadata": {},
     "output_type": "execute_result"
    }
   ],
   "source": [
    "# Find the last item in a tuple - last item is -1 and decrement to go left\n",
    "item[-1]"
   ]
  },
  {
   "cell_type": "code",
   "execution_count": 6,
   "metadata": {},
   "outputs": [
    {
     "ename": "TypeError",
     "evalue": "'tuple' object does not support item assignment",
     "output_type": "error",
     "traceback": [
      "\u001b[1;31m---------------------------------------------------------------------------\u001b[0m",
      "\u001b[1;31mTypeError\u001b[0m                                 Traceback (most recent call last)",
      "\u001b[1;32m<ipython-input-6-1532deac0944>\u001b[0m in \u001b[0;36m<module>\u001b[1;34m\u001b[0m\n\u001b[0;32m      1\u001b[0m \u001b[1;31m# Tuples are immutable and tryin to update it will result in a TypeError\u001b[0m\u001b[1;33m\u001b[0m\u001b[1;33m\u001b[0m\u001b[1;33m\u001b[0m\u001b[0m\n\u001b[1;32m----> 2\u001b[1;33m \u001b[0mitem\u001b[0m\u001b[1;33m[\u001b[0m\u001b[1;33m-\u001b[0m\u001b[1;36m1\u001b[0m\u001b[1;33m]\u001b[0m \u001b[1;33m=\u001b[0m \u001b[1;32mFalse\u001b[0m\u001b[1;33m\u001b[0m\u001b[1;33m\u001b[0m\u001b[0m\n\u001b[0m",
      "\u001b[1;31mTypeError\u001b[0m: 'tuple' object does not support item assignment"
     ]
    }
   ],
   "source": [
    "# Tuples are immutable and tryin to update it will result in a TypeError\n",
    "item[-1] = False"
   ]
  },
  {
   "cell_type": "code",
   "execution_count": 7,
   "metadata": {},
   "outputs": [],
   "source": [
    "# The tuple object is, actually, pretty closed-up: it only exposes two publicly available \n",
    "# methods: count and index. The count() method returns the number of occurrences\n",
    "# of a value, and the index() method returns the first index of a value.\n",
    "\n",
    "# One element tuple\n",
    "t_1 = 3,"
   ]
  },
  {
   "cell_type": "code",
   "execution_count": 8,
   "metadata": {},
   "outputs": [
    {
     "data": {
      "text/plain": [
       "tuple"
      ]
     },
     "execution_count": 8,
     "metadata": {},
     "output_type": "execute_result"
    }
   ],
   "source": [
    "type(t_1)"
   ]
  },
  {
   "cell_type": "code",
   "execution_count": 10,
   "metadata": {},
   "outputs": [
    {
     "data": {
      "text/plain": [
       "True"
      ]
     },
     "execution_count": 10,
     "metadata": {},
     "output_type": "execute_result"
    }
   ],
   "source": [
    "# Check to see if a tuple contains a value (in)\n",
    "3 in t_1"
   ]
  },
  {
   "cell_type": "code",
   "execution_count": 19,
   "metadata": {},
   "outputs": [],
   "source": [
    "# Unpacking tuples into scalar variables\n",
    "# Note: Tuple unpacking is often used to return multiple values from a function\n",
    "iid, name, available = item\n",
    "#print(str(iid)+' '+str(name)+' '+str(available))\n",
    "\n",
    "# Onf of the tuple unpacking idioms that you can often see in the field is to \n",
    "# suppress the unneeded elements with a variable name repeatedly plugged in places\n",
    "# where you do not want to get any unpacketed tuple field, usually this variable is named\n",
    "# _ (underscore), like so\n",
    "\n",
    "ide,_,_=item;_;\n"
   ]
  },
  {
   "cell_type": "code",
   "execution_count": 4,
   "metadata": {},
   "outputs": [],
   "source": [
    "list1 = [1,2,3]\n",
    "list2 = [4,5,6]\n",
    "my_tuple_of_lists1 = (list1,list2)\n",
    "my_tuple_of_lists2 = (list2,list1)\n",
    "my_tuple_of_tuples_of_lists = (my_tuple_of_lists1, my_tuple_of_lists2)\n",
    "\n",
    "# tuples are used for when we want to see a snapshot of the data at a time"
   ]
  },
  {
   "cell_type": "code",
   "execution_count": 5,
   "metadata": {},
   "outputs": [
    {
     "data": {
      "text/plain": [
       "766418794632"
      ]
     },
     "execution_count": 5,
     "metadata": {},
     "output_type": "execute_result"
    }
   ],
   "source": [
    "# The id built in function gives the address of the object\n",
    "id(list1)"
   ]
  },
  {
   "cell_type": "code",
   "execution_count": 9,
   "metadata": {},
   "outputs": [
    {
     "data": {
      "text/plain": [
       "766419044056"
      ]
     },
     "execution_count": 9,
     "metadata": {},
     "output_type": "execute_result"
    }
   ],
   "source": [
    "item = 1,2,3\n",
    "#id(item)\n",
    "item = item + (\"stuff\",)\n",
    "id(item)"
   ]
  },
  {
   "cell_type": "code",
   "execution_count": 13,
   "metadata": {},
   "outputs": [
    {
     "data": {
      "text/plain": [
       "{'__name__': '__main__',\n",
       " '__doc__': 'Automatically created module for IPython interactive environment',\n",
       " '__package__': None,\n",
       " '__loader__': None,\n",
       " '__spec__': None,\n",
       " '__builtin__': <module 'builtins' (built-in)>,\n",
       " '__builtins__': <module 'builtins' (built-in)>,\n",
       " '_ih': ['',\n",
       "  'list1 = [1,2,3]\\nlist2 = [4,5,6]\\nmy_tuple = (list1,list2)',\n",
       "  'list1 = [1,2,3]\\nlist2 = [4,5,6]\\nmy_tuple_of_lists = (list1,list2)\\n\\n# tuples are used for when we want to see a snapshot of the data at a time',\n",
       "  'list1 = [1,2,3]\\nlist2 = [4,5,6]\\nmy_tuple_of_lists1 = (list1,list2)\\nmy_tuple_of_lists2 = (list2,list1)\\nmy_tuple_of_tuples_of_lists (my_tuple_of_lists1, my_tuple_of_lists2)\\n\\n# tuples are used for when we want to see a snapshot of the data at a time',\n",
       "  'list1 = [1,2,3]\\nlist2 = [4,5,6]\\nmy_tuple_of_lists1 = (list1,list2)\\nmy_tuple_of_lists2 = (list2,list1)\\nmy_tuple_of_tuples_of_lists = (my_tuple_of_lists1, my_tuple_of_lists2)\\n\\n# tuples are used for when we want to see a snapshot of the data at a time',\n",
       "  '# The id built in function gives the address of the object\\nid(list1)',\n",
       "  'id(item)\\nitem = item + (\"stuff\",)\\nid(item)',\n",
       "  'item = 1,2,3\\nid(item)\\nitem = item + (\"stuff\",)\\nid(item)',\n",
       "  'item = 1,2,3\\nid(item)\\n#item = item + (\"stuff\",)\\n#id(item)',\n",
       "  'item = 1,2,3\\n#id(item)\\nitem = item + (\"stuff\",)\\nid(item)',\n",
       "  'globals',\n",
       "  '# Create empty tuple\\nempty_tuple = ()',\n",
       "  \"get_ipython().run_line_magic('who', '')\",\n",
       "  'globals()'],\n",
       " '_oh': {5: 766418794632,\n",
       "  7: 766419042696,\n",
       "  8: 766432022104,\n",
       "  9: 766419044056,\n",
       "  10: <function globals()>},\n",
       " '_dh': ['C:\\\\Works'],\n",
       " 'In': ['',\n",
       "  'list1 = [1,2,3]\\nlist2 = [4,5,6]\\nmy_tuple = (list1,list2)',\n",
       "  'list1 = [1,2,3]\\nlist2 = [4,5,6]\\nmy_tuple_of_lists = (list1,list2)\\n\\n# tuples are used for when we want to see a snapshot of the data at a time',\n",
       "  'list1 = [1,2,3]\\nlist2 = [4,5,6]\\nmy_tuple_of_lists1 = (list1,list2)\\nmy_tuple_of_lists2 = (list2,list1)\\nmy_tuple_of_tuples_of_lists (my_tuple_of_lists1, my_tuple_of_lists2)\\n\\n# tuples are used for when we want to see a snapshot of the data at a time',\n",
       "  'list1 = [1,2,3]\\nlist2 = [4,5,6]\\nmy_tuple_of_lists1 = (list1,list2)\\nmy_tuple_of_lists2 = (list2,list1)\\nmy_tuple_of_tuples_of_lists = (my_tuple_of_lists1, my_tuple_of_lists2)\\n\\n# tuples are used for when we want to see a snapshot of the data at a time',\n",
       "  '# The id built in function gives the address of the object\\nid(list1)',\n",
       "  'id(item)\\nitem = item + (\"stuff\",)\\nid(item)',\n",
       "  'item = 1,2,3\\nid(item)\\nitem = item + (\"stuff\",)\\nid(item)',\n",
       "  'item = 1,2,3\\nid(item)\\n#item = item + (\"stuff\",)\\n#id(item)',\n",
       "  'item = 1,2,3\\n#id(item)\\nitem = item + (\"stuff\",)\\nid(item)',\n",
       "  'globals',\n",
       "  '# Create empty tuple\\nempty_tuple = ()',\n",
       "  \"get_ipython().run_line_magic('who', '')\",\n",
       "  'globals()'],\n",
       " 'Out': {5: 766418794632,\n",
       "  7: 766419042696,\n",
       "  8: 766432022104,\n",
       "  9: 766419044056,\n",
       "  10: <function globals()>},\n",
       " 'get_ipython': <bound method InteractiveShell.get_ipython of <ipykernel.zmqshell.ZMQInteractiveShell object at 0x000000B27009D288>>,\n",
       " 'exit': <IPython.core.autocall.ZMQExitAutocall at 0xb272d86148>,\n",
       " 'quit': <IPython.core.autocall.ZMQExitAutocall at 0xb272d86148>,\n",
       " '_': <function globals()>,\n",
       " '__': 766419044056,\n",
       " '___': 766432022104,\n",
       " '_i': '%who',\n",
       " '_ii': '# Create empty tuple\\nempty_tuple = ()',\n",
       " '_iii': 'globals',\n",
       " '_i1': 'list1 = [1,2,3]\\nlist2 = [4,5,6]\\nmy_tuple = (list1,list2)',\n",
       " 'list1': [1, 2, 3],\n",
       " 'list2': [4, 5, 6],\n",
       " 'my_tuple': ([1, 2, 3], [4, 5, 6]),\n",
       " '_i2': 'list1 = [1,2,3]\\nlist2 = [4,5,6]\\nmy_tuple_of_lists = (list1,list2)\\n\\n# tuples are used for when we want to see a snapshot of the data at a time',\n",
       " 'my_tuple_of_lists': ([1, 2, 3], [4, 5, 6]),\n",
       " '_i3': 'list1 = [1,2,3]\\nlist2 = [4,5,6]\\nmy_tuple_of_lists1 = (list1,list2)\\nmy_tuple_of_lists2 = (list2,list1)\\nmy_tuple_of_tuples_of_lists (my_tuple_of_lists1, my_tuple_of_lists2)\\n\\n# tuples are used for when we want to see a snapshot of the data at a time',\n",
       " 'my_tuple_of_lists1': ([1, 2, 3], [4, 5, 6]),\n",
       " 'my_tuple_of_lists2': ([4, 5, 6], [1, 2, 3]),\n",
       " '_i4': 'list1 = [1,2,3]\\nlist2 = [4,5,6]\\nmy_tuple_of_lists1 = (list1,list2)\\nmy_tuple_of_lists2 = (list2,list1)\\nmy_tuple_of_tuples_of_lists = (my_tuple_of_lists1, my_tuple_of_lists2)\\n\\n# tuples are used for when we want to see a snapshot of the data at a time',\n",
       " 'my_tuple_of_tuples_of_lists': (([1, 2, 3], [4, 5, 6]),\n",
       "  ([4, 5, 6], [1, 2, 3])),\n",
       " '_i5': '# The id built in function gives the address of the object\\nid(list1)',\n",
       " '_5': 766418794632,\n",
       " '_i6': 'id(item)\\nitem = item + (\"stuff\",)\\nid(item)',\n",
       " '_i7': 'item = 1,2,3\\nid(item)\\nitem = item + (\"stuff\",)\\nid(item)',\n",
       " 'item': (1, 2, 3, 'stuff'),\n",
       " '_7': 766419042696,\n",
       " '_i8': 'item = 1,2,3\\nid(item)\\n#item = item + (\"stuff\",)\\n#id(item)',\n",
       " '_8': 766432022104,\n",
       " '_i9': 'item = 1,2,3\\n#id(item)\\nitem = item + (\"stuff\",)\\nid(item)',\n",
       " '_9': 766419044056,\n",
       " '_i10': 'globals',\n",
       " '_10': <function globals()>,\n",
       " '_i11': '# Create empty tuple\\nempty_tuple = ()',\n",
       " 'empty_tuple': (),\n",
       " '_i12': '%who',\n",
       " '_i13': 'globals()'}"
      ]
     },
     "execution_count": 13,
     "metadata": {},
     "output_type": "execute_result"
    }
   ],
   "source": [
    "globals()"
   ]
  },
  {
   "cell_type": "code",
   "execution_count": 11,
   "metadata": {},
   "outputs": [],
   "source": [
    "# Create empty tuple\n",
    "empty_tuple = ()"
   ]
  },
  {
   "cell_type": "code",
   "execution_count": 12,
   "metadata": {},
   "outputs": [
    {
     "name": "stdout",
     "output_type": "stream",
     "text": [
      "empty_tuple\t item\t list1\t list2\t my_tuple\t my_tuple_of_lists\t my_tuple_of_lists1\t my_tuple_of_lists2\t my_tuple_of_tuples_of_lists\t \n",
      "\n"
     ]
    }
   ],
   "source": [
    "%who"
   ]
  },
  {
   "cell_type": "code",
   "execution_count": null,
   "metadata": {},
   "outputs": [],
   "source": []
  }
 ],
 "metadata": {
  "kernelspec": {
   "display_name": "Python 3",
   "language": "python",
   "name": "python3"
  },
  "language_info": {
   "codemirror_mode": {
    "name": "ipython",
    "version": 3
   },
   "file_extension": ".py",
   "mimetype": "text/x-python",
   "name": "python",
   "nbconvert_exporter": "python",
   "pygments_lexer": "ipython3",
   "version": "3.7.4"
  }
 },
 "nbformat": 4,
 "nbformat_minor": 2
}
