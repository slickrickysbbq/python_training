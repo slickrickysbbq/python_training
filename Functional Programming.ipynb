{
 "cells": [
  {
   "cell_type": "code",
   "execution_count": 1,
   "metadata": {},
   "outputs": [
    {
     "data": {
      "text/plain": [
       "[10, 20, 30, 40, 50, 60]"
      ]
     },
     "execution_count": 1,
     "metadata": {},
     "output_type": "execute_result"
    }
   ],
   "source": [
    "# data model - set up list to create an iritable\n",
    "data_model = [1,2,3,4,5,6]\n",
    "\n",
    "# Map returns a generic collection type\n",
    "# list(value) is a contructor for creating a list object. It can take in the output of the Map function\n",
    "list( map(lambda x: x * 10, data_model))\n",
    "# lamba make maps slower than defined function"
   ]
  },
  {
   "cell_type": "code",
   "execution_count": 5,
   "metadata": {},
   "outputs": [
    {
     "data": {
      "text/plain": [
       "[10, 20, 30, 40, 50, 60]"
      ]
     },
     "execution_count": 5,
     "metadata": {},
     "output_type": "execute_result"
    }
   ],
   "source": [
    "# do the code as a list comprehension\n",
    "# list comprehension idiom\n",
    "map_results_list = [x * 10 for x in data_model]; map_results_list"
   ]
  },
  {
   "cell_type": "code",
   "execution_count": 7,
   "metadata": {},
   "outputs": [
    {
     "data": {
      "text/plain": [
       "[10, 20, 30, 40, 50, 60]"
      ]
     },
     "execution_count": 7,
     "metadata": {},
     "output_type": "execute_result"
    }
   ],
   "source": [
    "# WE could have also defined the lambda (anonymous) function outside of map to increase \n",
    "# code readability, like so:\n",
    "ml = lambda x: x * 10\n",
    "list(map(ml, data_model))"
   ]
  },
  {
   "cell_type": "code",
   "execution_count": 8,
   "metadata": {},
   "outputs": [],
   "source": [
    "# Lambdas do not have names (lambda is the name) and their return value is the result of the evaluation\n",
    "# of the expression contained in its body.\n",
    "\n",
    "# The map function only takes the lambda and the dataset to work on. Some languages\n",
    "# make map a method of some objectified data structure. "
   ]
  },
  {
   "cell_type": "code",
   "execution_count": 14,
   "metadata": {},
   "outputs": [
    {
     "data": {
      "text/plain": [
       "[2, 4, 6]"
      ]
     },
     "execution_count": 14,
     "metadata": {},
     "output_type": "execute_result"
    }
   ],
   "source": [
    "# Data Filtering\n",
    "# Data filtering is one of the most often used operations in data processing. Filtering in Python\n",
    "# can also be efficiently doen using functional programming paradigm supported by the filter\n",
    "# built-in global function\n",
    "\n",
    "# Let's say we have a requirement to go through the data model and retain only even numbers discardin the odd ones\n",
    "# AGain, we start with the functionally equivalent code that uses tranditional looping and list\n",
    "# comprehension idioms\n",
    "\n",
    "#filter_loop_result = []\n",
    "#for i in data_model:\n",
    "#    if i % 2 == 0:\n",
    "#        filter_loop_result.append(i)\n",
    "#print(filter_loop_result)\n",
    "\n",
    "# List Comprehension Idiom\n",
    "#filter_lc_result = [i for i in data_model if i % 2 == 0]\n",
    "#filter_lc_result\n",
    "\n",
    "# And here is the functionally equivalent functional prgramming Python filtering idiom using the filter function\n",
    "lada = lambda x: x % 2 == 0\n",
    "list(filter(lada, data_model))\n",
    "# filter returns a generic collection that can be converted to a specific collection type\n",
    "# You can dictionary and set comprehensions"
   ]
  },
  {
   "cell_type": "code",
   "execution_count": 15,
   "metadata": {},
   "outputs": [
    {
     "data": {
      "text/plain": [
       "21"
      ]
     },
     "execution_count": 15,
     "metadata": {},
     "output_type": "execute_result"
    }
   ],
   "source": [
    "# The reduce Function\n",
    "# Reduction (a.k.a. folding) is an aggregation action which is about computing some scalar\n",
    "# value from the data at hand, like sum, minimum, maximum, or count. The reduce Python function which acts in this\n",
    "# role, takes 2 parameters\n",
    "\n",
    "# Note: The data reduction operation depends on the commutative and associative properties of the data items which\n",
    "# makes this operation possible in situations where the order of data items accessed by the reduce\n",
    "# function cannot be guaranteed\n",
    "\n",
    "# As of Python 3, the reduce function was moved to the functools module that we need to import\n",
    "from functools import reduce\n",
    "\n",
    "reduce(lambda x,y: x+y, data_model)"
   ]
  },
  {
   "cell_type": "code",
   "execution_count": 16,
   "metadata": {},
   "outputs": [
    {
     "name": "stdout",
     "output_type": "stream",
     "text": [
      "1 2\n",
      "3 3\n",
      "6 4\n",
      "10 5\n",
      "15 6\n"
     ]
    },
    {
     "data": {
      "text/plain": [
       "21"
      ]
     },
     "execution_count": 16,
     "metadata": {},
     "output_type": "execute_result"
    }
   ],
   "source": [
    "def rd(x,y):\n",
    "    print (x,y)\n",
    "    return x + y\n",
    "\n",
    "reduce(rd, data_model)"
   ]
  },
  {
   "cell_type": "code",
   "execution_count": 17,
   "metadata": {},
   "outputs": [
    {
     "data": {
      "text/plain": [
       "6"
      ]
     },
     "execution_count": 17,
     "metadata": {},
     "output_type": "execute_result"
    }
   ],
   "source": [
    "max(data_model)"
   ]
  },
  {
   "cell_type": "code",
   "execution_count": 19,
   "metadata": {},
   "outputs": [
    {
     "data": {
      "text/plain": [
       "6"
      ]
     },
     "execution_count": 19,
     "metadata": {},
     "output_type": "execute_result"
    }
   ],
   "source": [
    "max_reduce = lambda x, y: x if x > y else y\n",
    "reduce(max_reduce, data_model)"
   ]
  },
  {
   "cell_type": "code",
   "execution_count": 20,
   "metadata": {},
   "outputs": [
    {
     "data": {
      "text/plain": [
       "1"
      ]
     },
     "execution_count": 20,
     "metadata": {},
     "output_type": "execute_result"
    }
   ],
   "source": [
    "# find the min\n",
    "min_reduce = lambda x, y: x if x < y else y\n",
    "reduce(min_reduce, data_model)"
   ]
  },
  {
   "cell_type": "code",
   "execution_count": 26,
   "metadata": {},
   "outputs": [
    {
     "name": "stdout",
     "output_type": "stream",
     "text": [
      "196795700872 196795701832\n",
      "['A', 'quick', 'brownish', 'fox', 'jumps', 'on', 'the', 'lazy', 'dog'] ['A', 'brownish', 'dog', 'fox', 'jumps', 'lazy', 'on', 'quick', 'the']\n"
     ]
    }
   ],
   "source": [
    "# In this lab part, we will contrast the outcomes of the .sort() List's method and the sorted() \n",
    "# function that can, optionally, take a lambda for applying some processing logic.\n",
    "\n",
    "# The biggest difference btwn the 2 is that .sort() performs sorting in-place, likely causing \n",
    "# reshuffling of the elements in the source list, while the sorted() built-in function keesp\n",
    "# the original list intact\n",
    "\n",
    "#list_of_words = \"A quick brownish fox jumps on the lazy dog\".split()\n",
    "#sorted_in_place = list_of_words\n",
    "#print(id(sorted_in_place),id(list_of_words))\n",
    "\n",
    "#sorted_in_place.sort()\n",
    "#print(list_of_words, sorted_in_place)\n",
    "\n",
    "# To avoid this perform a deep copy on list_of_words by using the .copy() function\n",
    "list_of_words = \"A quick brownish fox jumps on the lazy dog\".split()\n",
    "sorted_in_place = list_of_words.copy()\n",
    "print(id(sorted_in_place),id(list_of_words))\n",
    "\n",
    "sorted_in_place.sort()\n",
    "print(list_of_words, sorted_in_place)"
   ]
  },
  {
   "cell_type": "code",
   "execution_count": 29,
   "metadata": {},
   "outputs": [
    {
     "data": {
      "text/plain": [
       "['A', 'brownish', 'dog', 'fox', 'jumps', 'lazy', 'on', 'quick', 'the']"
      ]
     },
     "execution_count": 29,
     "metadata": {},
     "output_type": "execute_result"
    }
   ],
   "source": [
    "# sorted creates a new list instance with values sorted\n",
    "out = sorted(list_of_words); out "
   ]
  },
  {
   "cell_type": "code",
   "execution_count": 30,
   "metadata": {},
   "outputs": [
    {
     "data": {
      "text/plain": [
       "['A', 'on', 'fox', 'the', 'dog', 'lazy', 'quick', 'jumps', 'brownish']"
      ]
     },
     "execution_count": 30,
     "metadata": {},
     "output_type": "execute_result"
    }
   ],
   "source": [
    "out = sorted (list_of_words, key = lambda w: len(w)); out"
   ]
  },
  {
   "cell_type": "code",
   "execution_count": 7,
   "metadata": {},
   "outputs": [
    {
     "data": {
      "text/plain": [
       "0.25"
      ]
     },
     "execution_count": 7,
     "metadata": {},
     "output_type": "execute_result"
    }
   ],
   "source": [
    "from functools import reduce\n",
    "reduce(lambda x,y: x/ y, [1,2,2])"
   ]
  },
  {
   "cell_type": "code",
   "execution_count": 10,
   "metadata": {},
   "outputs": [
    {
     "data": {
      "text/plain": [
       "['why', 'test']"
      ]
     },
     "execution_count": 10,
     "metadata": {},
     "output_type": "execute_result"
    }
   ],
   "source": [
    "list_of_words = ['test','why']\n",
    "sorted (list_of_words, key = len)"
   ]
  },
  {
   "cell_type": "code",
   "execution_count": null,
   "metadata": {},
   "outputs": [],
   "source": []
  }
 ],
 "metadata": {
  "kernelspec": {
   "display_name": "Python 3",
   "language": "python",
   "name": "python3"
  },
  "language_info": {
   "codemirror_mode": {
    "name": "ipython",
    "version": 3
   },
   "file_extension": ".py",
   "mimetype": "text/x-python",
   "name": "python",
   "nbconvert_exporter": "python",
   "pygments_lexer": "ipython3",
   "version": "3.7.4"
  }
 },
 "nbformat": 4,
 "nbformat_minor": 2
}
