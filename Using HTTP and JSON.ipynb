{
 "cells": [
  {
   "cell_type": "code",
   "execution_count": 1,
   "metadata": {},
   "outputs": [
    {
     "data": {
      "text/plain": [
       "True"
      ]
     },
     "execution_count": 1,
     "metadata": {},
     "output_type": "execute_result"
    }
   ],
   "source": [
    "import requests\n",
    "import json\n",
    "\n",
    "url = 'http://localhost:9090/contacts.json'\n",
    "resp = requests.get(url)\n",
    "\n",
    "resp.status_code == 200"
   ]
  },
  {
   "cell_type": "code",
   "execution_count": 2,
   "metadata": {},
   "outputs": [
    {
     "data": {
      "text/plain": [
       "{'Server': 'SimpleHTTP/0.6 Python/3.7.4', 'Date': 'Wed, 02 Feb 2022 20:17:36 GMT', 'Content-type': 'application/json', 'Content-Length': '1182', 'Last-Modified': 'Fri, 25 Sep 2020 23:36:14 GMT'}"
      ]
     },
     "execution_count": 2,
     "metadata": {},
     "output_type": "execute_result"
    }
   ],
   "source": [
    "resp.headers"
   ]
  },
  {
   "cell_type": "code",
   "execution_count": 3,
   "metadata": {},
   "outputs": [
    {
     "data": {
      "text/plain": [
       "[{'id': 1,\n",
       "  'name': 'Duane McDuff',\n",
       "  'company': 'Muxo',\n",
       "  'state': 'MA',\n",
       "  'phone': '508-367-7864'},\n",
       " {'id': 2,\n",
       "  'name': 'Rachelle Ciementini',\n",
       "  'company': 'Jazzy',\n",
       "  'state': 'MO',\n",
       "  'phone': '314-982-6499'},\n",
       " {'id': 3,\n",
       "  'name': 'Clementina Lambrechts',\n",
       "  'company': 'Cogibox',\n",
       "  'state': 'NY',\n",
       "  'phone': '518-859-9548'}]"
      ]
     },
     "execution_count": 3,
     "metadata": {},
     "output_type": "execute_result"
    }
   ],
   "source": [
    "contacts = resp.json(); contacts[:3]"
   ]
  },
  {
   "cell_type": "code",
   "execution_count": 4,
   "metadata": {},
   "outputs": [
    {
     "data": {
      "text/plain": [
       "[('Duane McDuff', 'Muxo'),\n",
       " ('Rachelle Ciementini', 'Jazzy'),\n",
       " ('Clementina Lambrechts', 'Cogibox'),\n",
       " ('Jedediah Dasent', 'Jabberstorm'),\n",
       " ('Edithe Izakovitz', 'Tavu'),\n",
       " ('Marcelline Gell', 'Vitz'),\n",
       " ('Buckie Snaden', 'Realbuzz'),\n",
       " ('Andrew Calladine', 'Gabtype'),\n",
       " ('Camille Duckham', 'Skynoodle'),\n",
       " ('Merrielle Stile', 'Roomm')]"
      ]
     },
     "execution_count": 4,
     "metadata": {},
     "output_type": "execute_result"
    }
   ],
   "source": [
    "[(c.get('name', 'No one'), c.get('company', 'N/A')) for c in contacts]"
   ]
  },
  {
   "cell_type": "code",
   "execution_count": 7,
   "metadata": {},
   "outputs": [],
   "source": [
    "file_so_save = 'saved_contacts.json'\n",
    "with open (file_so_save, 'w') as fout:\n",
    "    json.dump(contacts, fout)"
   ]
  },
  {
   "cell_type": "code",
   "execution_count": 21,
   "metadata": {},
   "outputs": [
    {
     "ename": "AssertionError",
     "evalue": "",
     "output_type": "error",
     "traceback": [
      "\u001b[1;31m---------------------------------------------------------------------------\u001b[0m",
      "\u001b[1;31mAssertionError\u001b[0m                            Traceback (most recent call last)",
      "\u001b[1;32m<ipython-input-21-5c6c8bb3f886>\u001b[0m in \u001b[0;36m<module>\u001b[1;34m\u001b[0m\n\u001b[0;32m      1\u001b[0m \u001b[1;32mwith\u001b[0m \u001b[0mopen\u001b[0m \u001b[1;33m(\u001b[0m\u001b[0mfile_so_save\u001b[0m\u001b[1;33m)\u001b[0m \u001b[1;32mas\u001b[0m \u001b[0mfin\u001b[0m\u001b[1;33m:\u001b[0m\u001b[1;33m\u001b[0m\u001b[1;33m\u001b[0m\u001b[0m\n\u001b[0;32m      2\u001b[0m     \u001b[0mjson_from_file\u001b[0m \u001b[1;33m=\u001b[0m \u001b[0mjson\u001b[0m\u001b[1;33m.\u001b[0m\u001b[0mload\u001b[0m\u001b[1;33m(\u001b[0m\u001b[0mfin\u001b[0m\u001b[1;33m)\u001b[0m\u001b[1;33m\u001b[0m\u001b[1;33m\u001b[0m\u001b[0m\n\u001b[1;32m----> 3\u001b[1;33m \u001b[1;32massert\u001b[0m \u001b[0mjson_from_file\u001b[0m \u001b[1;33m==\u001b[0m \u001b[1;33m[\u001b[0m\u001b[1;33m]\u001b[0m\u001b[1;33m\u001b[0m\u001b[1;33m\u001b[0m\u001b[0m\n\u001b[0m",
      "\u001b[1;31mAssertionError\u001b[0m: "
     ]
    }
   ],
   "source": [
    "\n",
    "\n",
    "\n",
    "with open (file_so_save) as fin:\n",
    "    json_from_file = json.load(fin)\n",
    "assert json_from_file == contacts, \"Bad\""
   ]
  },
  {
   "cell_type": "code",
   "execution_count": 16,
   "metadata": {},
   "outputs": [
    {
     "data": {
      "text/plain": [
       "[{'id': 1,\n",
       "  'name': 'Duane McDuff',\n",
       "  'company': 'Muxo',\n",
       "  'state': 'MA',\n",
       "  'phone': '508-367-7864'},\n",
       " {'id': 2,\n",
       "  'name': 'Rachelle Ciementini',\n",
       "  'company': 'Jazzy',\n",
       "  'state': 'MO',\n",
       "  'phone': '314-982-6499'},\n",
       " {'id': 3,\n",
       "  'name': 'Clementina Lambrechts',\n",
       "  'company': 'Cogibox',\n",
       "  'state': 'NY',\n",
       "  'phone': '518-859-9548'},\n",
       " {'id': 4,\n",
       "  'name': 'Jedediah Dasent',\n",
       "  'company': 'Jabberstorm',\n",
       "  'state': 'TX',\n",
       "  'phone': '210-562-5974'},\n",
       " {'id': 5,\n",
       "  'name': 'Edithe Izakovitz',\n",
       "  'company': 'Tavu',\n",
       "  'state': 'MD',\n",
       "  'phone': '410-993-3937'},\n",
       " {'id': 6,\n",
       "  'name': 'Marcelline Gell',\n",
       "  'company': 'Vitz',\n",
       "  'state': 'CT',\n",
       "  'phone': '860-237-5161'},\n",
       " {'id': 7,\n",
       "  'name': 'Buckie Snaden',\n",
       "  'company': 'Realbuzz',\n",
       "  'state': 'IN',\n",
       "  'phone': '317-635-9563'},\n",
       " {'id': 8,\n",
       "  'name': 'Andrew Calladine',\n",
       "  'company': 'Gabtype',\n",
       "  'state': 'IL',\n",
       "  'phone': '773-625-6184'},\n",
       " {'id': 9,\n",
       "  'name': 'Camille Duckham',\n",
       "  'company': 'Skynoodle',\n",
       "  'state': 'VA',\n",
       "  'phone': '757-674-6544'},\n",
       " {'id': 10,\n",
       "  'name': 'Merrielle Stile',\n",
       "  'company': 'Roomm',\n",
       "  'state': 'MA',\n",
       "  'phone': '508-439-8706'}]"
      ]
     },
     "execution_count": 16,
     "metadata": {},
     "output_type": "execute_result"
    }
   ],
   "source": [
    "json_from_file2"
   ]
  },
  {
   "cell_type": "code",
   "execution_count": null,
   "metadata": {},
   "outputs": [],
   "source": []
  }
 ],
 "metadata": {
  "kernelspec": {
   "display_name": "Python 3",
   "language": "python",
   "name": "python3"
  },
  "language_info": {
   "codemirror_mode": {
    "name": "ipython",
    "version": 3
   },
   "file_extension": ".py",
   "mimetype": "text/x-python",
   "name": "python",
   "nbconvert_exporter": "python",
   "pygments_lexer": "ipython3",
   "version": "3.7.4"
  }
 },
 "nbformat": 4,
 "nbformat_minor": 2
}
