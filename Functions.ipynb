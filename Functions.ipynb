{
 "cells": [
  {
   "cell_type": "code",
   "execution_count": 10,
   "metadata": {},
   "outputs": [],
   "source": [
    "# Create a simple function\n",
    "# Rule of thumb - number of parameters should not be more than 7\n",
    "def sales_report(year, gross_revenue, sales_channel):\n",
    "# There is a convention that doc strings should be in line with the function - jupyter does not like this\n",
    "    ''' year (int) 4 digit year \n",
    "    gross_revenue (float) \n",
    "    sales_channel (str) Example  on-line'''\n",
    "    print(year, gross_revenue, sales_channel)\n",
    "    return f\"The report for {sales_channel} / {year} published\""
   ]
  },
  {
   "cell_type": "code",
   "execution_count": 11,
   "metadata": {},
   "outputs": [
    {
     "name": "stdout",
     "output_type": "stream",
     "text": [
      "Help on function sales_report in module __main__:\n",
      "\n",
      "sales_report(year, gross_revenue, sales_channel)\n",
      "    year (int) 4 digit year \n",
      "    gross_revenue (float) \n",
      "    sales_channel (str) Example  on-line\n",
      "\n"
     ]
    }
   ],
   "source": [
    "# doc string in function makes this possile\n",
    "help(sales_report)"
   ]
  },
  {
   "cell_type": "code",
   "execution_count": 3,
   "metadata": {},
   "outputs": [
    {
     "name": "stdout",
     "output_type": "stream",
     "text": [
      "2020 9999999 'on-line'\n"
     ]
    },
    {
     "data": {
      "text/plain": [
       "\"The report for 'on-line' / 2020 published\""
      ]
     },
     "execution_count": 3,
     "metadata": {},
     "output_type": "execute_result"
    }
   ],
   "source": [
    "# Example of invoking method\n",
    "sales_report(2020, 9999999, \"'on-line'\")"
   ]
  },
  {
   "cell_type": "code",
   "execution_count": 4,
   "metadata": {},
   "outputs": [
    {
     "name": "stdout",
     "output_type": "stream",
     "text": [
      "2022 20 'in-store'\n"
     ]
    },
    {
     "data": {
      "text/plain": [
       "\"The report for 'in-store' / 2022 published\""
      ]
     },
     "execution_count": 4,
     "metadata": {},
     "output_type": "execute_result"
    }
   ],
   "source": [
    "sales_report(gross_revenue=20, sales_channel=\"'in-store'\", year=2022)"
   ]
  },
  {
   "cell_type": "code",
   "execution_count": 6,
   "metadata": {},
   "outputs": [],
   "source": [
    "# using default parameters\n",
    "def sales_report2(gross_revenue, year=2021, sales_channel=\"'retail'\"):\n",
    "    print (year, gross_revenue, sales_channel)\n",
    "    return f\"The report for {sales_channel} / {year} published\""
   ]
  },
  {
   "cell_type": "code",
   "execution_count": 7,
   "metadata": {},
   "outputs": [
    {
     "name": "stdout",
     "output_type": "stream",
     "text": [
      "2021 111 'retail'\n"
     ]
    },
    {
     "data": {
      "text/plain": [
       "\"The report for 'retail' / 2021 published\""
      ]
     },
     "execution_count": 7,
     "metadata": {},
     "output_type": "execute_result"
    }
   ],
   "source": [
    "sales_report2(111)"
   ]
  },
  {
   "cell_type": "code",
   "execution_count": 12,
   "metadata": {},
   "outputs": [
    {
     "data": {
      "text/plain": [
       "tuple"
      ]
     },
     "execution_count": 12,
     "metadata": {},
     "output_type": "execute_result"
    }
   ],
   "source": [
    "# Functions w/ arbitrary number of input parameters * p - tuple\n",
    "# Why would they use a tuple?\n",
    "def sales_report3(* p):\n",
    "    for i in p:\n",
    "        print(i)\n",
    "        print(type(p))\n",
    "        print(locals())\n",
    "    print(p[0], p[1], p[2])\n",
    "    \n",
    "    \n",
    "t = 1,2,3\n",
    "type(t)"
   ]
  },
  {
   "cell_type": "code",
   "execution_count": 20,
   "metadata": {},
   "outputs": [
    {
     "name": "stdout",
     "output_type": "stream",
     "text": [
      "1\n",
      "<class 'tuple'>\n",
      "{'p': (1, 2, 3), 'i': 1}\n",
      "2\n",
      "<class 'tuple'>\n",
      "{'p': (1, 2, 3), 'i': 2}\n",
      "3\n",
      "<class 'tuple'>\n",
      "{'p': (1, 2, 3), 'i': 3}\n",
      "1 2 3\n"
     ]
    }
   ],
   "source": [
    "sales_report3(1,2,3)"
   ]
  },
  {
   "cell_type": "code",
   "execution_count": 21,
   "metadata": {},
   "outputs": [
    {
     "data": {
      "text/plain": [
       "True"
      ]
     },
     "execution_count": 21,
     "metadata": {},
     "output_type": "execute_result"
    }
   ],
   "source": [
    "# locals() function returns a dictionary holding name:value pairs for all\n",
    "# variables visible to the locals functions\n",
    "locals() == globals()"
   ]
  },
  {
   "cell_type": "code",
   "execution_count": 24,
   "metadata": {},
   "outputs": [],
   "source": [
    "# Keyword Parameters\n",
    "# keyword parameters are packed into a dictionary object that is represented in the \n",
    "# function's signature as the kword variable with the ** prefix\n",
    "\n",
    "def sales_report4(**namedoesnotmatter):\n",
    "    year = namedoesnotmatter['year']\n",
    "    gr_rv = namedoesnotmatter['gross_revenue']\n",
    "    # When workng with dictionaries, it is a always a good idea to provide a default\n",
    "    # value for a non-existent key\n",
    "    sl_ch = namedoesnotmatter.get('sales_channel', \"'retail'\")\n",
    "    print(year,gr_rv, sl_ch)\n",
    "    return f\"The report for {sl_ch} / {year} published\"\n"
   ]
  },
  {
   "cell_type": "code",
   "execution_count": 25,
   "metadata": {},
   "outputs": [
    {
     "name": "stdout",
     "output_type": "stream",
     "text": [
      "2020 -10 'nowhere'\n"
     ]
    },
    {
     "data": {
      "text/plain": [
       "\"The report for 'nowhere' / 2020 published\""
      ]
     },
     "execution_count": 25,
     "metadata": {},
     "output_type": "execute_result"
    }
   ],
   "source": [
    "sales_report4(year=2020,gross_revenue=-10, sales_channel=\"'nowhere'\")"
   ]
  },
  {
   "cell_type": "code",
   "execution_count": 30,
   "metadata": {},
   "outputs": [],
   "source": [
    "# Functions returning multiple parameters\n",
    "# You can return multiple parameters from a function, like so - \n",
    "#    return var1, var2, var3, etc\n",
    "# The number of variables in the calling code should match the number of returned values\n",
    "#    var1_g, var2_g, var3_g, etc. = your_function(...)\n",
    "# The Python idiom for returning multiple values is to pack allof them into a tumple\n",
    "\n",
    "def sales_report5(**namedoesnotmatter):\n",
    "    year = namedoesnotmatter['year']\n",
    "    gr_rv = namedoesnotmatter['gross_revenue']\n",
    "    # When workng with dictionaries, it is a always a good idea to provide a default\n",
    "    # value for a non-existent key\n",
    "    sl_ch = namedoesnotmatter.get('sales_channel', \"'retail'\")\n",
    "    print(year,gr_rv, sl_ch)\n",
    "    return (year, gr_rv, sl_ch)"
   ]
  },
  {
   "cell_type": "code",
   "execution_count": 33,
   "metadata": {},
   "outputs": [
    {
     "name": "stdout",
     "output_type": "stream",
     "text": [
      "2022 20 'on-line'\n",
      "2022 20 'on-line' 2022\n"
     ]
    }
   ],
   "source": [
    "yr, gr, sc = sales_report5(year=2022,gross_revenue=20,sales_channel=\"'on-line'\" )\n",
    "print(yr,gr,sc,yr)"
   ]
  },
  {
   "cell_type": "code",
   "execution_count": 35,
   "metadata": {},
   "outputs": [
    {
     "data": {
      "text/plain": [
       "6"
      ]
     },
     "execution_count": 35,
     "metadata": {},
     "output_type": "execute_result"
    }
   ],
   "source": [
    "# Recursion\n",
    "def fact (n):\n",
    "    if n == 1:\n",
    "        return 1\n",
    "    return n * fact (n-1)\n",
    "\n",
    "\n",
    "fact(3)"
   ]
  },
  {
   "cell_type": "code",
   "execution_count": null,
   "metadata": {},
   "outputs": [],
   "source": []
  }
 ],
 "metadata": {
  "kernelspec": {
   "display_name": "Python 3",
   "language": "python",
   "name": "python3"
  },
  "language_info": {
   "codemirror_mode": {
    "name": "ipython",
    "version": 3
   },
   "file_extension": ".py",
   "mimetype": "text/x-python",
   "name": "python",
   "nbconvert_exporter": "python",
   "pygments_lexer": "ipython3",
   "version": "3.7.4"
  }
 },
 "nbformat": 4,
 "nbformat_minor": 2
}
