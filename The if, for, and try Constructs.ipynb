{
 "cells": [
  {
   "cell_type": "code",
   "execution_count": null,
   "metadata": {},
   "outputs": [],
   "source": [
    "for x in range(1,12,1):\n",
    "    print('\\Processing number: ', x)"
   ]
  },
  {
   "cell_type": "code",
   "execution_count": null,
   "metadata": {},
   "outputs": [],
   "source": [
    "# trt/except/else/finally\n",
    "for x in range(6):\n",
    "    print('\\Processing number:', x)\n",
    "    if(x<1) or (x>3):\n",
    "        print('* I do not see outside my scope: ', x)\n",
    "    elif x==1:\n",
    "        print('* The number was 1')\n",
    "    elif x==1:\n",
    "        print('* The number was 1 again')\n",
    "    elif x==2:\n",
    "        print('* The number of 2')\n",
    "    else:\n",
    "        print('* The number was 3')"
   ]
  },
  {
   "cell_type": "code",
   "execution_count": 6,
   "metadata": {},
   "outputs": [
    {
     "name": "stdout",
     "output_type": "stream",
     "text": [
      "\n",
      "Party of:  0\n",
      "My eception was not thrown\n",
      "I am in the Exception block!\n",
      "Exception!!:  integer division or modulo by zero\n",
      "finally\n",
      "Come again\n",
      "\n",
      "Party of:  1\n",
      "My eception was not thrown\n",
      "Try: Everyone gets 6 piece(s)\n",
      "Else: Everyone gets 6 piece(s)\n",
      "finally\n"
     ]
    },
    {
     "ename": "Exception",
     "evalue": "The max party size of {max_party_size} been executed",
     "output_type": "error",
     "traceback": [
      "\u001b[1;31m---------------------------------------------------------------------------\u001b[0m",
      "\u001b[1;31mException\u001b[0m                                 Traceback (most recent call last)",
      "\u001b[1;32m<ipython-input-6-6f141c7855ed>\u001b[0m in \u001b[0;36m<module>\u001b[1;34m\u001b[0m\n\u001b[0;32m     21\u001b[0m         \u001b[1;31m# else and finally block are not required\u001b[0m\u001b[1;33m\u001b[0m\u001b[1;33m\u001b[0m\u001b[1;33m\u001b[0m\u001b[0m\n\u001b[0;32m     22\u001b[0m         \u001b[0mprint\u001b[0m\u001b[1;33m(\u001b[0m\u001b[1;34m\"Else: Everyone gets {} piece(s)\"\u001b[0m\u001b[1;33m.\u001b[0m\u001b[0mformat\u001b[0m\u001b[1;33m(\u001b[0m\u001b[0mpieces_per_person\u001b[0m\u001b[1;33m)\u001b[0m\u001b[1;33m)\u001b[0m\u001b[1;33m\u001b[0m\u001b[1;33m\u001b[0m\u001b[0m\n\u001b[1;32m---> 23\u001b[1;33m         \u001b[1;32mraise\u001b[0m \u001b[0mException\u001b[0m\u001b[1;33m(\u001b[0m\u001b[1;34m\"The max party size of {max_party_size} been executed\"\u001b[0m\u001b[1;33m)\u001b[0m\u001b[1;33m\u001b[0m\u001b[1;33m\u001b[0m\u001b[0m\n\u001b[0m\u001b[0;32m     24\u001b[0m         \u001b[0mprint\u001b[0m\u001b[1;33m(\u001b[0m\u001b[1;34m\"My exception was not thrown\"\u001b[0m\u001b[1;33m)\u001b[0m\u001b[1;33m\u001b[0m\u001b[1;33m\u001b[0m\u001b[0m\n\u001b[0;32m     25\u001b[0m     \u001b[1;32mfinally\u001b[0m\u001b[1;33m:\u001b[0m\u001b[1;33m\u001b[0m\u001b[1;33m\u001b[0m\u001b[0m\n",
      "\u001b[1;31mException\u001b[0m: The max party size of {max_party_size} been executed"
     ]
    }
   ],
   "source": [
    "pizza_pieces = 6\n",
    "max_party_size = 3\n",
    "\n",
    "for people in range(6):\n",
    "    print('\\nParty of: ', people)\n",
    "    try:\n",
    "        if people > max_party_size:\n",
    "            print(\"In the if block\")\n",
    "            raise Exception(f\"The maxx party size of {max_party_size} been executed!\")\n",
    "        print(\"My eception was not thrown\")\n",
    "        pieces_per_person = pizza_pieces // people\n",
    "        print(\"Try: Everyone gets {} piece(s)\".format(pieces_per_person))\n",
    "    #except ZeroDivisionError as e:\n",
    "    #    print(\"I am in the Exception block!\")\n",
    "    #    print(\"Exception!!: \", e)\n",
    "    except Exception as e:\n",
    "        print(\"I am in the Exception block!\")\n",
    "        print(\"Exception!!: \", e)\n",
    "    else:\n",
    "        # Only executed if no errors raised in the try block\n",
    "        # else and finally block are not required\n",
    "        print(\"Else: Everyone gets {} piece(s)\".format(pieces_per_person))\n",
    "        raise Exception(\"The max party size of {max_party_size} been executed\")\n",
    "        print(\"My exception was not thrown\")\n",
    "    finally:\n",
    "        print(\"finally\")\n",
    "    \n",
    "    print(\"Come again\")"
   ]
  },
  {
   "cell_type": "code",
   "execution_count": null,
   "metadata": {},
   "outputs": [],
   "source": []
  }
 ],
 "metadata": {
  "kernelspec": {
   "display_name": "Python 3",
   "language": "python",
   "name": "python3"
  },
  "language_info": {
   "codemirror_mode": {
    "name": "ipython",
    "version": 3
   },
   "file_extension": ".py",
   "mimetype": "text/x-python",
   "name": "python",
   "nbconvert_exporter": "python",
   "pygments_lexer": "ipython3",
   "version": "3.7.4"
  }
 },
 "nbformat": 4,
 "nbformat_minor": 2
}
